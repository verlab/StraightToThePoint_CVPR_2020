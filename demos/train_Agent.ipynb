{
  "nbformat": 4,
  "nbformat_minor": 0,
  "metadata": {
    "colab": {
      "name": "train_Agent.ipynb",
      "provenance": [],
      "collapsed_sections": []
    },
    "kernelspec": {
      "name": "python3",
      "display_name": "Python 3"
    },
    "accelerator": "GPU"
  },
  "cells": [
    {
      "cell_type": "markdown",
      "metadata": {
        "id": "b3nxJ0VElkpO"
      },
      "source": [
        "### Prepare the data to train the Agent \r\n",
        "\r\n",
        "- Clone the repo and install the dependencies"
      ]
    },
    {
      "cell_type": "code",
      "metadata": {
        "id": "kFWPY-CkNGNM"
      },
      "source": [
        "! git clone https://github.com/washingtonsk8/StraightToThePoint_CVPR2020\r\n",
        "%cd StraightToThePoint_CVPR2020\r\n",
        "! pip install -r requirements.txt"
      ],
      "execution_count": null,
      "outputs": []
    },
    {
      "cell_type": "markdown",
      "metadata": {
        "id": "bqBbdo-_l8qo"
      },
      "source": [
        "- Download \\& Organize the [YouCook2 Dataset](http://youcook2.eecs.umich.edu/) (Annotations and Videos)"
      ]
    },
    {
      "cell_type": "code",
      "metadata": {
        "id": "pOhfi2rfroRR"
      },
      "source": [
        "# Download and extract the annotations\r\n",
        "! wget -O rl_fast_forward/resources/YouCook2/youcookii_annotations_trainval.tar.gz http://youcook2.eecs.umich.edu/static/YouCookII/youcookii_annotations_trainval.tar.gz\r\n",
        "! tar -xf rl_fast_forward/resources/YouCook2/youcookii_annotations_trainval.tar.gz -C rl_fast_forward/resources/YouCook2/\r\n",
        "! rm rl_fast_forward/resources/YouCook2/youcookii_annotations_trainval.tar.gz\r\n",
        "\r\n",
        "# Download the scripts used to collect the videos\r\n",
        "! wget -O rl_fast_forward/resources/YouCook2/scripts.tar.gz http://youcook2.eecs.umich.edu/static/YouCookII/scripts.tar.gz\r\n",
        "! tar -xf rl_fast_forward/resources/YouCook2/scripts.tar.gz -C rl_fast_forward/resources/YouCook2/\r\n",
        "! rm rl_fast_forward/resources/YouCook2/scripts.tar.gz\r\n",
        "\r\n",
        "# Install youtube-dl and download the available videos\r\n",
        "! pip install youtube_dl\r\n",
        "! cd rl_fast_forward/resources/YouCook2/scripts\r\n",
        "! python download_youcookii_videos.py"
      ],
      "execution_count": null,
      "outputs": []
    },
    {
      "cell_type": "markdown",
      "metadata": {
        "id": "CT8FY0NK13-E"
      },
      "source": [
        "- To train the agent, you will need a trained VDAN model. You can have one by following the above instructions or downloading a pretrained one we provide [here](https://github.com/washingtonsk8/StraightToThePoint_CVPR2020/releases/download/v0.9.0/vdan_model_pretrained.pth).\r\n",
        "\r\n",
        "  If you want to obtain it via terminal, use:"
      ]
    },
    {
      "cell_type": "code",
      "metadata": {
        "id": "ob36PdmcizC3"
      },
      "source": [
        "# Download the pretrained model\r\n",
        "! wget -O semantic_encoding/models/vdan_model_pretrained.pth https://github.com/washingtonsk8/StraightToThePoint_CVPR2020/releases/download/v0.9.0/vdan_model_pretrained.pth"
      ],
      "execution_count": null,
      "outputs": []
    },
    {
      "cell_type": "markdown",
      "metadata": {
        "id": "6Ink34FD2UAe"
      },
      "source": [
        "- Now, prepare the data for training!"
      ]
    },
    {
      "cell_type": "code",
      "metadata": {
        "id": "3rpoXYNP2Sqf"
      },
      "source": [
        "%cd rl_fast_forward\r\n",
        "! python resources/create_youcook2_recipe_documents.py\r\n",
        "! mkdir resources/YouCook2/VDAN/img_feats\r\n",
        "! mkdir resources/YouCook2/VDAN/doc_feats"
      ],
      "execution_count": null,
      "outputs": []
    },
    {
      "cell_type": "markdown",
      "metadata": {
        "id": "2gMLAOFA2b8s"
      },
      "source": [
        "- You are set! Now, you just need to run it..."
      ]
    },
    {
      "cell_type": "code",
      "metadata": {
        "id": "ZXT5Qa1j0LD_"
      },
      "source": [
        "! python main.py -s ../semantic_encoding/models/vdan_model_pretrained.pth -d YouCook2"
      ],
      "execution_count": null,
      "outputs": []
    },
    {
      "cell_type": "markdown",
      "metadata": {
        "id": "7FHmRnvJ2pG-"
      },
      "source": [
        "- After training, the script will generate a JSON file with..."
      ]
    }
  ]
}