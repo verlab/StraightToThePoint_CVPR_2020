{
  "nbformat": 4,
  "nbformat_minor": 0,
  "metadata": {
    "accelerator": "GPU",
    "colab": {
      "name": "train_Agent.ipynb",
      "provenance": [],
      "collapsed_sections": [],
      "toc_visible": true
    },
    "kernelspec": {
      "display_name": "Python 3",
      "name": "python3"
    }
  },
  "cells": [
    {
      "cell_type": "markdown",
      "metadata": {
        "id": "b3nxJ0VElkpO"
      },
      "source": [
        "### Prepare the data to train the Agent \r\n",
        "\r\n",
        "- Clone the repo and install the dependencies (you may need to restart the session after running the following command once):"
      ]
    },
    {
      "cell_type": "code",
      "metadata": {
        "id": "kFWPY-CkNGNM"
      },
      "source": [
        "! git clone https://github.com/verlab/StraightToThePoint_CVPR_2020\r\n",
        "%cd StraightToThePoint_CVPR_2020\r\n",
        "! pip install -r requirements.txt"
      ],
      "execution_count": null,
      "outputs": []
    },
    {
      "cell_type": "markdown",
      "metadata": {
        "id": "qYgp6h47siRU"
      },
      "source": [
        "- To train the agent, you will need the features produced the VDAN model. You can have these features using:"
      ]
    },
    {
      "cell_type": "code",
      "metadata": {
        "id": "E44GxN1MshGm"
      },
      "source": [
        "! wget -O rl_fast_forward/resources/YouCook2/VDAN/youcookii_vdan_feats.zip https://github.com/verlab/StraightToThePoint_CVPR_2020/releases/download/v1.0.0/youcookii_feats_vdan.zip\r\n",
        "! unzip -q rl_fast_forward/resources/YouCook2/VDAN/youcookii_vdan_feats.zip -d rl_fast_forward/resources/YouCook2/VDAN/\r\n",
        "! rm rl_fast_forward/resources/YouCook2/VDAN/youcookii_vdan_feats.zip"
      ],
      "execution_count": null,
      "outputs": []
    },
    {
      "cell_type": "markdown",
      "metadata": {
        "id": "CT8FY0NK13-E"
      },
      "source": [
        "- If you want to extract them by yourself, you can have a VDAN pretrained model as follows:"
      ]
    },
    {
      "cell_type": "code",
      "metadata": {
        "id": "ob36PdmcizC3"
      },
      "source": [
        "# Download the pretrained model\r\n",
        "%cd /content/StraightToThePoint_CVPR_2020\r\n",
        "! wget -O semantic_encoding/models/vdan_pretrained_model.pth https://github.com/verlab/StraightToThePoint_CVPR_2020/releases/download/v1.0.0/vdan_pretrained_model.pth"
      ],
      "execution_count": null,
      "outputs": []
    },
    {
      "cell_type": "markdown",
      "metadata": {
        "id": "6Ink34FD2UAe"
      },
      "source": [
        "- Now, prepare the data for training...\r\n",
        "  1. First, download the annotations;\r\n",
        "  2. Then, download the videos, IF NECESSARY. **PS.: If you already have the VDAN features extracted, skip this step**;\r\n",
        "  3. Finally, prepare the recipe files."
      ]
    },
    {
      "cell_type": "code",
      "metadata": {
        "id": "pOhfi2rfroRR"
      },
      "source": [
        "# 1. Download and extract the annotations\r\n",
        "%cd /content/StraightToThePoint_CVPR_2020\r\n",
        "! wget -O rl_fast_forward/resources/YouCook2/youcookii_annotations_trainval.tar.gz http://youcook2.eecs.umich.edu/static/YouCookII/youcookii_annotations_trainval.tar.gz\r\n",
        "! tar -xf rl_fast_forward/resources/YouCook2/youcookii_annotations_trainval.tar.gz -C rl_fast_forward/resources/YouCook2/\r\n",
        "! rm rl_fast_forward/resources/YouCook2/youcookii_annotations_trainval.tar.gz"
      ],
      "execution_count": null,
      "outputs": []
    },
    {
      "cell_type": "code",
      "metadata": {
        "id": "D9idcdl7uONY"
      },
      "source": [
        "# 2. Download the scripts used to collect the videos + Install youtube-dl and download the available videos\r\n",
        "! wget -O rl_fast_forward/resources/YouCook2/scripts.tar.gz http://youcook2.eecs.umich.edu/static/YouCookII/scripts.tar.gz\r\n",
        "! tar -xf rl_fast_forward/resources/YouCook2/scripts.tar.gz -C rl_fast_forward/resources/YouCook2/\r\n",
        "! rm rl_fast_forward/resources/YouCook2/scripts.tar.gz\r\n",
        "\r\n",
        "! pip install youtube_dl\r\n",
        "%cd rl_fast_forward/resources/YouCook2/scripts\r\n",
        "! python download_youcookii_videos.py"
      ],
      "execution_count": null,
      "outputs": []
    },
    {
      "cell_type": "code",
      "metadata": {
        "id": "3rpoXYNP2Sqf"
      },
      "source": [
        "# 3. Prepare the recipe files and feature folders\r\n",
        "%cd /content/StraightToThePoint_CVPR_2020/rl_fast_forward/\r\n",
        "! python resources/create_youcook2_recipe_documents.py\r\n",
        "! mkdir resources/YouCook2/VDAN/img_feats\r\n",
        "! mkdir resources/YouCook2/VDAN/doc_feats"
      ],
      "execution_count": null,
      "outputs": []
    },
    {
      "cell_type": "markdown",
      "metadata": {
        "id": "2gMLAOFA2b8s"
      },
      "source": [
        "- You are set! Now, you just need to run it..."
      ]
    },
    {
      "cell_type": "code",
      "metadata": {
        "id": "ZXT5Qa1j0LD_"
      },
      "source": [
        "! python main.py -s ../semantic_encoding/models/vdan_pretrained_model.pth -d YouCook2 --include_test -n 100"
      ],
      "execution_count": null,
      "outputs": []
    },
    {
      "cell_type": "markdown",
      "metadata": {
        "id": "7FHmRnvJ2pG-"
      },
      "source": [
        "- After training, the model will be saved in the [rl_fast_forward/models](rl_fast_forward/models) folder. Then, the script will generate a results JSON file with the pattern `results/<datetime>_<hostname>_youcookii_selected_frames.json`"
      ]
    },
    {
      "cell_type": "code",
      "metadata": {
        "id": "FC2ZXM3Yhplc"
      },
      "source": [
        "! python eval/eval_results.py -gt eval/youcookii_gts.json -sf results/<datetime>_<hostname>_youcookii_selected_frames.json"
      ],
      "execution_count": null,
      "outputs": []
    }
  ]
}
